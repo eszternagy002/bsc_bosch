{
 "cells": [
  {
   "cell_type": "code",
   "execution_count": 1,
   "id": "dd64bec0",
   "metadata": {},
   "outputs": [],
   "source": [
    "import albumentations as A\n",
    "import cv2"
   ]
  },
  {
   "cell_type": "code",
   "execution_count": 2,
   "id": "97109146",
   "metadata": {},
   "outputs": [],
   "source": [
    "#a levágást és a horizontal flipet használtam, mert az 1. cikkben is ezeket használták\n",
    "\n",
    "transform = A.Compose([\n",
    "    A.RandomResizedCrop(height=600, width=600, scale=(0.08, 1.0)),\n",
    "    A.HorizontalFlip(p=0.5)])"
   ]
  },
  {
   "cell_type": "code",
   "execution_count": 3,
   "id": "a8edc331",
   "metadata": {},
   "outputs": [],
   "source": [
    "#a boschprojekt mappában 41 dúsítandó kép van, tehát hogy kb. 5000 legyen belőlük, mindegyikből 124 db plusz képet kell csinálni\n",
    "from PIL import Image as im\n",
    "    \n",
    "for i in range(1, 67):\n",
    "    for j in range(1, 5):\n",
    "        image = cv2.imread(\"./boschprojekt/B\" + str(i) + \"_\" + str(j) + \".jpeg\")\n",
    "        try:\n",
    "            image = cv2.cvtColor(image, cv2.COLOR_BGR2RGB)\n",
    "            for t in range(1, 125):\n",
    "                data = im.fromarray(transform(image=image)['image'])\n",
    "                data.save(\"./transformed ones/bosch_b7/B\" + str(i) + \"_\" + str(j) + \"_\" + \"tr_\" + str(t) + \".jpeg\")\n",
    "        except:\n",
    "            pass"
   ]
  },
  {
   "cell_type": "code",
   "execution_count": 4,
   "id": "9d29f5c1",
   "metadata": {},
   "outputs": [],
   "source": [
    "#a JBAC mappában 757, tehát mindegyikből plusz 7 kép már elég lesz\n",
    "for i in range(1, 1122):\n",
    "    image = cv2.imread(\"./JBAC/\" + str(i)  + \".jpeg\")\n",
    "    try:\n",
    "        image = cv2.cvtColor(image, cv2.COLOR_BGR2RGB)\n",
    "        for t in range(1, 8):\n",
    "            data = im.fromarray(transform(image=image)['image'])\n",
    "            data.save(\"./transformed ones/followers_b7/\" + str(i)  + \"_tr_\" + str(t) + \".jpeg\")\n",
    "    except:\n",
    "        pass"
   ]
  },
  {
   "cell_type": "code",
   "execution_count": null,
   "id": "e6d46468",
   "metadata": {},
   "outputs": [],
   "source": []
  }
 ],
 "metadata": {
  "kernelspec": {
   "display_name": "Python 3 (ipykernel)",
   "language": "python",
   "name": "python3"
  },
  "language_info": {
   "codemirror_mode": {
    "name": "ipython",
    "version": 3
   },
   "file_extension": ".py",
   "mimetype": "text/x-python",
   "name": "python",
   "nbconvert_exporter": "python",
   "pygments_lexer": "ipython3",
   "version": "3.9.13"
  }
 },
 "nbformat": 4,
 "nbformat_minor": 5
}
