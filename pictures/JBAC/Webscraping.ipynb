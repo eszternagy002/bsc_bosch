{
 "cells": [
  {
   "cell_type": "code",
   "execution_count": 91,
   "id": "4bbc9c02",
   "metadata": {},
   "outputs": [
    {
     "name": "stderr",
     "output_type": "stream",
     "text": [
      "C:\\Users\\ezagep\\AppData\\Local\\Temp\\ipykernel_1052\\373160545.py:8: DeprecationWarning: executable_path has been deprecated, please pass in a Service object\n",
      "  driver = webdriver.Chrome('./chromedriver.exe')\n"
     ]
    }
   ],
   "source": [
    "import selenium\n",
    "from selenium import webdriver\n",
    "import time\n",
    "from bs4 import BeautifulSoup\n",
    "\n",
    "rows = []\n",
    "\n",
    "driver = webdriver.Chrome('./chromedriver.exe')"
   ]
  },
  {
   "cell_type": "code",
   "execution_count": 92,
   "id": "9380f037",
   "metadata": {},
   "outputs": [],
   "source": [
    "for i in range(1, 95):\n",
    "    if i==1:\n",
    "        driver.get('https://jeroenboschplaza.com/followers-overview/?lang=en')\n",
    "    else:\n",
    "        driver.get('https://jeroenboschplaza.com/followers-overview/?lang=en&wpv_view_count=9530&wpv_post_search=&wpv_paged=' + str(i))\n",
    "    time.sleep(4)\n",
    "\n",
    "    source = driver.page_source\n",
    "    soup = BeautifulSoup(source)\n",
    "    table = soup.find(\"div\", {\"class\":\"ct-inner-content\"})\n",
    "    rows.append(table.find_all('div', {\"class\":\"navolgers-overzicht-titel\"})) #listák listája"
   ]
  },
  {
   "cell_type": "code",
   "execution_count": 93,
   "id": "5d179c83",
   "metadata": {},
   "outputs": [],
   "source": [
    "no=0\n",
    "import requests\n",
    "import shutil\n",
    "from selenium.webdriver.common.by import By\n",
    "problematic_ones = [] #There were some data that couldn't be written into the txt file because of special characters.\n",
    "#I skipped them while writing the txt, collect them in a list, and add them manually to the excel file, since there are not many of them.\n",
    "data = open(\"adatok.txt\", \"a\")\n",
    "for row in rows:\n",
    "    for r in row:\n",
    "        link = r.find('a')[\"href\"]\n",
    "        driver.get(link)\n",
    "        time.sleep(2)\n",
    "        source = driver.page_source\n",
    "        soup = BeautifulSoup(source)\n",
    "        table1 = soup.find(\"div\", {\"id\":\"div_block-5-9539\"})\n",
    "        url=table1.find(\"a\", {\"class\":\"ct-link fancybox image\"})[\"href\"]\n",
    "        no = no+1\n",
    "        file_name = str(no) + '.jpeg'\n",
    "        \n",
    "        res = requests.get(url, stream=True)\n",
    "        with open(file_name,'wb') as f:\n",
    "            shutil.copyfileobj(res.raw, f)\n",
    "        \n",
    "        table2 = soup.find(\"div\", {\"id\":\"div_block-4-9539\"})\n",
    "        title = driver.find_element(By.ID,'span-8-3406').text\n",
    "        title=title.encode(\"utf8\").decode(\"utf8\")\n",
    "        artist = driver.find_element(By.ID,'span-12-9539').text\n",
    "        artist=artist.encode(\"utf8\").decode(\"utf8\")\n",
    "        era = driver.find_element(By.ID,'span-15-9539').text\n",
    "        material = driver.find_element(By.ID,'span-101-9539').text\n",
    "        dimensions = driver.find_element(By.ID,'span-36-9539').text\n",
    "        \n",
    "        data.write(str(no))\n",
    "        data.write(';')\n",
    "        try:\n",
    "            data.write(title)\n",
    "        except UnicodeEncodeError:\n",
    "            problematic_ones.append(title)\n",
    "        data.write(';')\n",
    "        try:\n",
    "            data.write(artist)\n",
    "        except UnicodeEncodeError:\n",
    "            problematic_ones.append(artist)\n",
    "        data.write(';')\n",
    "        data.write(era)\n",
    "        data.write(';')\n",
    "        data.write(material)\n",
    "        data.write(';')\n",
    "        data.write(dimensions)\n",
    "        data.write('\\n')\n",
    "data.close()"
   ]
  },
  {
   "cell_type": "code",
   "execution_count": 94,
   "id": "8ca71da7",
   "metadata": {},
   "outputs": [
    {
     "data": {
      "text/plain": [
       "['Adoration of the Magi, The - Genève (Geneva) - Brussels',\n",
       " 'Anthony, The Temptations of St - Geneva - Genève 2017',\n",
       " 'Anthony, The Temptations of St - Genève - Brussels',\n",
       " 'Anthony, The Temptations of St - Genova - Genève - De Jonckheere 2021',\n",
       " 'Anthony, The Temptations of St (partial copy of the Lisbon central panel) - Liège',\n",
       " 'Anthony, The Temptations of St. - Genève - Geneva',\n",
       " 'Blind leading the Blind, The - Paris - Geneva - Genève',\n",
       " 'Calvin entering Hell - Geneva - Genève',\n",
       " 'Christ Carrying the Cross - Liège',\n",
       " 'Christ Carrying the Cross and Cripples - Liège',\n",
       " \"Christ's Descent into Limbo - Genève - Geneva - De Jonckheere 2021\",\n",
       " \"Christ's Descent into Limbo - Genève - Geneva - De Jonckheere 2021\",\n",
       " 'Christopher or Anthony, The Temptations of St - Liège',\n",
       " 'Christopher, The Temptations of St - Liège',\n",
       " 'Conjurer, The - Figure sketches à la Bosch - Liège',\n",
       " 'Ecce Homo - Genève - Genova - De Jonckheere Gallery 2021',\n",
       " 'Figures à la Bosch - Liège',\n",
       " 'Hell- scene - Genève - Geneva',\n",
       " 'Luther entering Hell - Geneva - Genève',\n",
       " 'Monsters - Liège',\n",
       " 'Seven Deadly Sins, The (Superbia) - Genève - Genova - De Jonckheere 2021',\n",
       " 'Shrove Tuesday - Liège']"
      ]
     },
     "execution_count": 94,
     "metadata": {},
     "output_type": "execute_result"
    }
   ],
   "source": [
    "problematic_ones"
   ]
  },
  {
   "cell_type": "code",
   "execution_count": null,
   "id": "e4771917",
   "metadata": {},
   "outputs": [],
   "source": []
  }
 ],
 "metadata": {
  "kernelspec": {
   "display_name": "Python 3 (ipykernel)",
   "language": "python",
   "name": "python3"
  },
  "language_info": {
   "codemirror_mode": {
    "name": "ipython",
    "version": 3
   },
   "file_extension": ".py",
   "mimetype": "text/x-python",
   "name": "python",
   "nbconvert_exporter": "python",
   "pygments_lexer": "ipython3",
   "version": "3.9.12"
  }
 },
 "nbformat": 4,
 "nbformat_minor": 5
}
