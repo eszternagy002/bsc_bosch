{
 "cells": [
  {
   "cell_type": "code",
   "execution_count": 1,
   "id": "802b7ac5",
   "metadata": {},
   "outputs": [
    {
     "name": "stderr",
     "output_type": "stream",
     "text": [
      "C:\\Users\\ezagep\\AppData\\Local\\Temp\\ipykernel_824\\2015302876.py:5: DeprecationWarning: executable_path has been deprecated, please pass in a Service object\n",
      "  driver = webdriver.Chrome('./chromedriver.exe')\n"
     ]
    }
   ],
   "source": [
    "import selenium\n",
    "from selenium import webdriver\n",
    "import time\n",
    "from bs4 import BeautifulSoup\n",
    "driver = webdriver.Chrome('./chromedriver.exe')"
   ]
  },
  {
   "cell_type": "code",
   "execution_count": 2,
   "id": "76b4e066",
   "metadata": {},
   "outputs": [],
   "source": [
    "driver.get('http://boschproject.org/#/artworks/')\n",
    "time.sleep(2)\n",
    "\n",
    "source = driver.page_source\n",
    "soup = BeautifulSoup(source)"
   ]
  },
  {
   "cell_type": "code",
   "execution_count": 3,
   "id": "9daf886f",
   "metadata": {},
   "outputs": [],
   "source": [
    "data = soup.find_all('div', {\"class\":\"card-overlay-contents style-scope label-box\"})"
   ]
  },
  {
   "cell_type": "code",
   "execution_count": 4,
   "id": "bae5ce43",
   "metadata": {
    "scrolled": false
   },
   "outputs": [],
   "source": [
    "import requests\n",
    "import shutil\n",
    "from selenium.webdriver.common.by import By\n",
    "adatok = open(\"adatok_B.txt\", \"a\")\n",
    "project = 'http://boschproject.org/'\n",
    "no = 0\n",
    "lista = []\n",
    "for row in data:\n",
    "    h = row.find(\"a\", {\"class\":\"soft-emboss style-scope bosch-artworks\"})[\"href\"]\n",
    "    if h not in lista:\n",
    "        num1 = 0\n",
    "        num2 = 0\n",
    "        no = no + 1\n",
    "        lista.append(h)\n",
    "        link = 'http://boschproject.org/' + h\n",
    "        driver.get(link)\n",
    "        time.sleep(2)\n",
    "        sourceb = driver.page_source\n",
    "        soupb = BeautifulSoup(sourceb)\n",
    "\n",
    "        info = driver.find_element(By.CLASS_NAME,\"style-scope bosch-artworks\").text\n",
    "        #saving the data to the txt file\n",
    "        vegig = 0\n",
    "        name = ''\n",
    "        while info[vegig] != '\\n':\n",
    "            name = name + info[vegig]\n",
    "            vegig = vegig + 1\n",
    "            \n",
    "        title = ''\n",
    "        vegig = vegig + 1\n",
    "        while info[vegig] != '\\n':\n",
    "            title = title + info[vegig]\n",
    "            vegig = vegig + 1\n",
    "        \n",
    "        dimensions = ''\n",
    "        vegig = vegig + 1\n",
    "        while info[vegig] != '\\n':\n",
    "            dimensions = dimensions + info[vegig]\n",
    "            vegig = vegig + 1\n",
    "\n",
    "        material = ''\n",
    "        vegig = vegig + 1\n",
    "        while info[vegig] != '\\n':\n",
    "            material = material + info[vegig]\n",
    "            vegig = vegig + 1\n",
    "\n",
    "        adatok.write(\"B\" + str(no))\n",
    "        adatok.write(';')\n",
    "        adatok.write(name)\n",
    "        adatok.write(';')\n",
    "        adatok.write(title)\n",
    "        adatok.write(';')\n",
    "        adatok.write(material)\n",
    "        adatok.write(';')\n",
    "        adatok.write(dimensions)\n",
    "        adatok.write('\\n')\n",
    "\n",
    "        table = soupb.find(\"div\", {\"class\":\"flex-lane style-scope\"})\n",
    "        pics = table.find_all(\"img\", {\"class\":\"scaled style-scope responsive-image-card\"})\n",
    "        #saving the pic(s) about the artwork\n",
    "        for pic in pics:\n",
    "            num1 = num1 + 1\n",
    "            url = project + pic[\"src\"]\n",
    "            file_name = \"B\" + str(no) + \"_\" + str(num1) + \".jpeg\"\n",
    "\n",
    "            res = requests.get(url, stream=True)\n",
    "            with open(file_name,'wb') as f:\n",
    "                shutil.copyfileobj(res.raw, f)\n",
    "\n",
    "        #saving the detail images\n",
    "        table3 = soupb.find_all(\"paper-material\", {\"class\": \"style-scope bosch-artworks x-scope paper-material-0\"})[2]\n",
    "        details = table3.find_all(\"img\", {\"class\": \"scaled style-scope responsive-image-card\"})\n",
    "        for det in details:\n",
    "            num2 = num2 + 1\n",
    "            url = project + det[\"src\"]\n",
    "            file_name =\"det\" + str(num2)+ \"_B\" + str(no)+ \".jpeg\"\n",
    "\n",
    "            res = requests.get(url, stream=True)\n",
    "            with open(file_name,'wb') as f:\n",
    "                shutil.copyfileobj(res.raw, f)\n",
    "adatok.close()"
   ]
  },
  {
   "cell_type": "code",
   "execution_count": null,
   "id": "f5a46da2",
   "metadata": {},
   "outputs": [],
   "source": []
  }
 ],
 "metadata": {
  "kernelspec": {
   "display_name": "Python 3 (ipykernel)",
   "language": "python",
   "name": "python3"
  },
  "language_info": {
   "codemirror_mode": {
    "name": "ipython",
    "version": 3
   },
   "file_extension": ".py",
   "mimetype": "text/x-python",
   "name": "python",
   "nbconvert_exporter": "python",
   "pygments_lexer": "ipython3",
   "version": "3.9.12"
  }
 },
 "nbformat": 4,
 "nbformat_minor": 5
}
